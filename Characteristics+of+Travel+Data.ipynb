{
 "cells": [
  {
   "cell_type": "code",
   "execution_count": 1,
   "metadata": {
    "collapsed": true
   },
   "outputs": [],
   "source": [
    "import pandas as pd \n",
    "import numpy as np \n",
    "import matplotlib.pyplot as plt\n",
    "%matplotlib inline\n",
    "import seaborn as sns\n"
   ]
  },
  {
   "cell_type": "code",
   "execution_count": 2,
   "metadata": {
    "collapsed": true
   },
   "outputs": [],
   "source": [
    "travel = pd.read_csv(\"travel_insurance_vlad.csv\",delimiter=\",\")"
   ]
  },
  {
   "cell_type": "code",
   "execution_count": 3,
   "metadata": {},
   "outputs": [
    {
     "data": {
      "text/html": [
       "<div>\n",
       "<style>\n",
       "    .dataframe thead tr:only-child th {\n",
       "        text-align: right;\n",
       "    }\n",
       "\n",
       "    .dataframe thead th {\n",
       "        text-align: left;\n",
       "    }\n",
       "\n",
       "    .dataframe tbody tr th {\n",
       "        vertical-align: top;\n",
       "    }\n",
       "</style>\n",
       "<table border=\"1\" class=\"dataframe\">\n",
       "  <thead>\n",
       "    <tr style=\"text-align: right;\">\n",
       "      <th></th>\n",
       "      <th>Agency</th>\n",
       "      <th>Agency Type</th>\n",
       "      <th>Distribution Channel</th>\n",
       "      <th>Product Name</th>\n",
       "      <th>Claim</th>\n",
       "      <th>Duration</th>\n",
       "      <th>Destination</th>\n",
       "      <th>Net Sales</th>\n",
       "      <th>Commision (in value)</th>\n",
       "      <th>Gender</th>\n",
       "      <th>Age</th>\n",
       "    </tr>\n",
       "  </thead>\n",
       "  <tbody>\n",
       "    <tr>\n",
       "      <th>0</th>\n",
       "      <td>CBH</td>\n",
       "      <td>Travel Agency</td>\n",
       "      <td>Offline</td>\n",
       "      <td>Comprehensive Plan</td>\n",
       "      <td>No</td>\n",
       "      <td>186</td>\n",
       "      <td>MALAYSIA</td>\n",
       "      <td>-29.0</td>\n",
       "      <td>9.57</td>\n",
       "      <td>F</td>\n",
       "      <td>81</td>\n",
       "    </tr>\n",
       "    <tr>\n",
       "      <th>1</th>\n",
       "      <td>CBH</td>\n",
       "      <td>Travel Agency</td>\n",
       "      <td>Offline</td>\n",
       "      <td>Comprehensive Plan</td>\n",
       "      <td>No</td>\n",
       "      <td>186</td>\n",
       "      <td>MALAYSIA</td>\n",
       "      <td>-29.0</td>\n",
       "      <td>9.57</td>\n",
       "      <td>F</td>\n",
       "      <td>71</td>\n",
       "    </tr>\n",
       "    <tr>\n",
       "      <th>2</th>\n",
       "      <td>CWT</td>\n",
       "      <td>Travel Agency</td>\n",
       "      <td>Online</td>\n",
       "      <td>Rental Vehicle Excess Insurance</td>\n",
       "      <td>No</td>\n",
       "      <td>65</td>\n",
       "      <td>AUSTRALIA</td>\n",
       "      <td>-49.5</td>\n",
       "      <td>29.70</td>\n",
       "      <td>NaN</td>\n",
       "      <td>32</td>\n",
       "    </tr>\n",
       "    <tr>\n",
       "      <th>3</th>\n",
       "      <td>CWT</td>\n",
       "      <td>Travel Agency</td>\n",
       "      <td>Online</td>\n",
       "      <td>Rental Vehicle Excess Insurance</td>\n",
       "      <td>No</td>\n",
       "      <td>60</td>\n",
       "      <td>AUSTRALIA</td>\n",
       "      <td>-39.6</td>\n",
       "      <td>23.76</td>\n",
       "      <td>NaN</td>\n",
       "      <td>32</td>\n",
       "    </tr>\n",
       "    <tr>\n",
       "      <th>4</th>\n",
       "      <td>CWT</td>\n",
       "      <td>Travel Agency</td>\n",
       "      <td>Online</td>\n",
       "      <td>Rental Vehicle Excess Insurance</td>\n",
       "      <td>No</td>\n",
       "      <td>79</td>\n",
       "      <td>ITALY</td>\n",
       "      <td>-19.8</td>\n",
       "      <td>11.88</td>\n",
       "      <td>NaN</td>\n",
       "      <td>41</td>\n",
       "    </tr>\n",
       "  </tbody>\n",
       "</table>\n",
       "</div>"
      ],
      "text/plain": [
       "  Agency    Agency Type Distribution Channel                     Product Name  \\\n",
       "0    CBH  Travel Agency              Offline               Comprehensive Plan   \n",
       "1    CBH  Travel Agency              Offline               Comprehensive Plan   \n",
       "2    CWT  Travel Agency               Online  Rental Vehicle Excess Insurance   \n",
       "3    CWT  Travel Agency               Online  Rental Vehicle Excess Insurance   \n",
       "4    CWT  Travel Agency               Online  Rental Vehicle Excess Insurance   \n",
       "\n",
       "  Claim  Duration Destination  Net Sales  Commision (in value) Gender  Age  \n",
       "0    No       186    MALAYSIA      -29.0                  9.57      F   81  \n",
       "1    No       186    MALAYSIA      -29.0                  9.57      F   71  \n",
       "2    No        65   AUSTRALIA      -49.5                 29.70    NaN   32  \n",
       "3    No        60   AUSTRALIA      -39.6                 23.76    NaN   32  \n",
       "4    No        79       ITALY      -19.8                 11.88    NaN   41  "
      ]
     },
     "execution_count": 3,
     "metadata": {},
     "output_type": "execute_result"
    }
   ],
   "source": [
    "travel.head()"
   ]
  },
  {
   "cell_type": "code",
   "execution_count": 4,
   "metadata": {},
   "outputs": [
    {
     "name": "stdout",
     "output_type": "stream",
     "text": [
      "<class 'pandas.core.frame.DataFrame'>\n",
      "RangeIndex: 63326 entries, 0 to 63325\n",
      "Data columns (total 11 columns):\n",
      "Agency                  63326 non-null object\n",
      "Agency Type             63326 non-null object\n",
      "Distribution Channel    63326 non-null object\n",
      "Product Name            63326 non-null object\n",
      "Claim                   63326 non-null object\n",
      "Duration                63326 non-null int64\n",
      "Destination             63326 non-null object\n",
      "Net Sales               63326 non-null float64\n",
      "Commision (in value)    63326 non-null float64\n",
      "Gender                  18219 non-null object\n",
      "Age                     63326 non-null int64\n",
      "dtypes: float64(2), int64(2), object(7)\n",
      "memory usage: 5.3+ MB\n"
     ]
    }
   ],
   "source": [
    "travel.info()"
   ]
  },
  {
   "cell_type": "markdown",
   "metadata": {},
   "source": [
    "     lot of null values in Gender column \n",
    "     check for null values across other columns"
   ]
  },
  {
   "cell_type": "code",
   "execution_count": 5,
   "metadata": {},
   "outputs": [
    {
     "name": "stdout",
     "output_type": "stream",
     "text": [
      "M    9347\n",
      "F    8872\n",
      "Name: Gender, dtype: int64\n",
      "Agency                  False\n",
      "Agency Type             False\n",
      "Distribution Channel    False\n",
      "Product Name            False\n",
      "Claim                   False\n",
      "Duration                False\n",
      "Destination             False\n",
      "Net Sales               False\n",
      "Commision (in value)    False\n",
      "Gender                   True\n",
      "Age                     False\n",
      "dtype: bool\n",
      "45107\n",
      "No     62399\n",
      "Yes      927\n",
      "Name: Claim, dtype: int64\n"
     ]
    }
   ],
   "source": [
    "print(travel['Gender'].value_counts())\n",
    "print(travel.isnull().any())\n",
    "print(travel['Gender'].isnull().sum())\n",
    "print(travel['Claim'].value_counts())"
   ]
  },
  {
   "cell_type": "markdown",
   "metadata": {},
   "source": [
    "    so 45107 null values in Gender. which is a lot. We can drop the NA values"
   ]
  },
  {
   "cell_type": "code",
   "execution_count": 6,
   "metadata": {},
   "outputs": [
    {
     "name": "stdout",
     "output_type": "stream",
     "text": [
      "Agency                  False\n",
      "Agency Type             False\n",
      "Distribution Channel    False\n",
      "Product Name            False\n",
      "Claim                   False\n",
      "Duration                False\n",
      "Destination             False\n",
      "Net Sales               False\n",
      "Commision (in value)    False\n",
      "Gender                  False\n",
      "Age                     False\n",
      "dtype: bool\n"
     ]
    }
   ],
   "source": [
    "travel = travel.dropna()\n",
    "print(travel.isnull().any())"
   ]
  },
  {
   "cell_type": "markdown",
   "metadata": {},
   "source": [
    "    Let's explore the Age column "
   ]
  },
  {
   "cell_type": "code",
   "execution_count": 7,
   "metadata": {},
   "outputs": [
    {
     "data": {
      "text/plain": [
       "count    18219.000000\n",
       "mean        44.785444\n",
       "std         20.894323\n",
       "min          0.000000\n",
       "25%         31.000000\n",
       "50%         40.000000\n",
       "75%         52.000000\n",
       "max        118.000000\n",
       "Name: Age, dtype: float64"
      ]
     },
     "execution_count": 7,
     "metadata": {},
     "output_type": "execute_result"
    }
   ],
   "source": [
    "travel['Age'].describe()"
   ]
  },
  {
   "cell_type": "markdown",
   "metadata": {},
   "source": [
    "    So the min does not really make sense to be 0. Highly doubt the max with 118. That must be really old man or lady. "
   ]
  },
  {
   "cell_type": "code",
   "execution_count": 8,
   "metadata": {},
   "outputs": [
    {
     "data": {
      "text/plain": [
       "48     976\n",
       "118    841\n",
       "30     680\n",
       "28     612\n",
       "31     580\n",
       "27     559\n",
       "32     558\n",
       "33     557\n",
       "29     552\n",
       "36     491\n",
       "34     486\n",
       "35     461\n",
       "37     455\n",
       "26     452\n",
       "39     433\n",
       "38     424\n",
       "45     393\n",
       "25     393\n",
       "43     372\n",
       "41     363\n",
       "40     362\n",
       "44     357\n",
       "42     347\n",
       "47     330\n",
       "46     311\n",
       "24     304\n",
       "49     286\n",
       "53     275\n",
       "51     255\n",
       "50     254\n",
       "      ... \n",
       "77      29\n",
       "76      27\n",
       "79      25\n",
       "17      24\n",
       "16      21\n",
       "80      20\n",
       "84      19\n",
       "81      19\n",
       "78      18\n",
       "14      15\n",
       "82      14\n",
       "83      13\n",
       "15      12\n",
       "85       8\n",
       "87       7\n",
       "13       7\n",
       "10       6\n",
       "9        6\n",
       "8        6\n",
       "11       5\n",
       "12       5\n",
       "1        5\n",
       "88       4\n",
       "3        4\n",
       "7        4\n",
       "5        3\n",
       "86       3\n",
       "0        2\n",
       "2        1\n",
       "4        1\n",
       "Name: Age, Length: 89, dtype: int64"
      ]
     },
     "execution_count": 8,
     "metadata": {},
     "output_type": "execute_result"
    }
   ],
   "source": [
    "travel['Age'].value_counts()"
   ]
  },
  {
   "cell_type": "code",
   "execution_count": 9,
   "metadata": {
    "collapsed": true
   },
   "outputs": [],
   "source": [
    "travel = travel[travel.Age != 118]"
   ]
  },
  {
   "cell_type": "markdown",
   "metadata": {},
   "source": [
    "    removed the 118 Age value. Now let's explore the duration of the travel"
   ]
  },
  {
   "cell_type": "code",
   "execution_count": 10,
   "metadata": {},
   "outputs": [
    {
     "data": {
      "text/plain": [
       "count    17378.000000\n",
       "mean        70.628784\n",
       "std        115.088822\n",
       "min          0.000000\n",
       "25%          9.000000\n",
       "50%         21.000000\n",
       "75%         59.000000\n",
       "max        740.000000\n",
       "Name: Duration, dtype: float64"
      ]
     },
     "execution_count": 10,
     "metadata": {},
     "output_type": "execute_result"
    }
   ],
   "source": [
    "travel['Duration'].describe()"
   ]
  },
  {
   "cell_type": "markdown",
   "metadata": {},
   "source": [
    "Duration of 0 - wonder what it means. There is also some negative values for the duration like -2,-1."
   ]
  },
  {
   "cell_type": "markdown",
   "metadata": {},
   "source": [
    "We can also do some graphs with seaborn library for better visualization:Claims and Gender"
   ]
  },
  {
   "cell_type": "code",
   "execution_count": 73,
   "metadata": {},
   "outputs": [
    {
     "data": {
      "image/png": "[encoded data removed]",
      "text/plain": [
       "<matplotlib.figure.Figure at 0x21a9f79aa20>"
      ]
     },
     "metadata": {},
     "output_type": "display_data"
    }
   ],
   "source": [
    "f,ax=plt.subplots(1,2,figsize=(18,5))\n",
    "g=sns.countplot(y=travel.Claim,order=travel.Claim.value_counts().index,ax=ax[0])\n",
    "for i,v in enumerate(travel.Claim.value_counts().values):\n",
    "    g.text(0.5,i,v,weight=\"bold\")\n",
    "ax[0].set_title(\"Claim\")\n",
    "ax[0].set_ylabel(\"\")\n",
    "\n",
    "f=sns.countplot(y=travel.Gender,order=travel[\"Gender\"].value_counts().index,ax=ax[1])\n",
    "for i,v in enumerate(travel.Gender.value_counts().values):\n",
    "    f.text(0.5,i,v,weight=\"bold\")\n",
    "ax[1].set_title(\"Gender\")\n",
    "ax[1].set_ylabel(\"\")\n",
    "plt.subplots_adjust(wspace=0.8)"
   ]
  },
  {
   "cell_type": "markdown",
   "metadata": {
    "collapsed": true
   },
   "source": [
    "We can also explore a combination between Gender and Duration or Gender and claims with graphs. "
   ]
  },
  {
   "cell_type": "code",
   "execution_count": 20,
   "metadata": {},
   "outputs": [
    {
     "data": {
      "image/png": "[encoded data removed]",
      "text/plain": [
       "<matplotlib.figure.Figure at 0x1c22f8fa710>"
      ]
     },
     "metadata": {},
     "output_type": "display_data"
    }
   ],
   "source": [
    "bins = np.linspace(travel.Duration.min(), travel.Duration.max(), 10)\n",
    "g = sns.FacetGrid(travel, col=\"Gender\", hue=\"Claim\", palette=\"Set2\", col_wrap=2)\n",
    "g.map(plt.hist, 'Duration', bins=bins, ec=\"k\")\n",
    "\n",
    "g.axes[-1].legend()\n",
    "plt.show()"
   ]
  },
  {
   "cell_type": "code",
   "execution_count": 21,
   "metadata": {},
   "outputs": [
    {
     "data": {
      "image/png": "[encoded data removed]",
      "text/plain": [
       "<matplotlib.figure.Figure at 0x1c22f76a7b8>"
      ]
     },
     "metadata": {},
     "output_type": "display_data"
    }
   ],
   "source": [
    "bins = np.linspace(travel.Age.min(), travel.Age.max(),10)\n",
    "g = sns.FacetGrid(travel, col='Gender',hue='Claim', palette='Set2', col_wrap=2)\n",
    "g.map(plt.hist, 'Age', bins=bins, ec='k')\n",
    "\n",
    "g.axes[-1].legend()\n",
    "plt.show()"
   ]
  },
  {
   "cell_type": "markdown",
   "metadata": {},
   "source": [
    "we  can see the distribution across the Age and Claims splitted by Gender."
   ]
  }
 ],
 "metadata": {
  "kernelspec": {
   "display_name": "Python 3",
   "language": "python",
   "name": "python3"
  },
  "language_info": {
   "codemirror_mode": {
    "name": "ipython",
    "version": 3
   },
   "file_extension": ".py",
   "mimetype": "text/x-python",
   "name": "python",
   "nbconvert_exporter": "python",
   "pygments_lexer": "ipython3",
   "version": "3.6.3"
  }
 },
 "nbformat": 4,
 "nbformat_minor": 2
}
